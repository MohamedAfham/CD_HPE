{
  "nbformat": 4,
  "nbformat_minor": 0,
  "metadata": {
    "colab": {
      "name": "Reproduce NFP_Undercover.ipynb",
      "provenance": [],
      "collapsed_sections": []
    },
    "kernelspec": {
      "name": "python3",
      "display_name": "Python 3"
    },
    "language_info": {
      "name": "python"
    },
    "accelerator": "GPU"
  },
  "cells": [
    {
      "cell_type": "markdown",
      "metadata": {
        "id": "u_1qf65Nqg5x"
      },
      "source": [
        "# Clone the repository"
      ]
    },
    {
      "cell_type": "code",
      "metadata": {
        "colab": {
          "base_uri": "https://localhost:8080/"
        },
        "id": "mleaGII1HZoR",
        "outputId": "fa303cbf-049b-4db2-e48b-8721646c5fa3"
      },
      "source": [
        "!git clone https://github.com/MohamedAfham/CD_HPE.git"
      ],
      "execution_count": null,
      "outputs": [
        {
          "output_type": "stream",
          "name": "stdout",
          "text": [
            "Cloning into 'CD_HPE'...\n",
            "remote: Enumerating objects: 183, done.\u001b[K\n",
            "remote: Counting objects: 100% (37/37), done.\u001b[K\n",
            "remote: Compressing objects: 100% (30/30), done.\u001b[K\n",
            "remote: Total 183 (delta 12), reused 20 (delta 6), pack-reused 146\u001b[K\n",
            "Receiving objects: 100% (183/183), 241.95 MiB | 31.23 MiB/s, done.\n",
            "Resolving deltas: 100% (69/69), done.\n",
            "Checking out files: 100% (24/24), done.\n"
          ]
        }
      ]
    },
    {
      "cell_type": "code",
      "metadata": {
        "colab": {
          "base_uri": "https://localhost:8080/"
        },
        "id": "wqZuwJZvD3I3",
        "outputId": "1a38a76a-b4d5-4bc2-f436-8f528b7d302b"
      },
      "source": [
        "%cd /content/CD_HPE/"
      ],
      "execution_count": null,
      "outputs": [
        {
          "output_type": "stream",
          "name": "stdout",
          "text": [
            "/content/CD_HPE\n"
          ]
        }
      ]
    },
    {
      "cell_type": "markdown",
      "metadata": {
        "id": "Yw0ENQVBM3Zo"
      },
      "source": [
        "# Download and place datasets"
      ]
    },
    {
      "cell_type": "code",
      "metadata": {
        "id": "6rGMea8rD8KB"
      },
      "source": [
        "!mkdir data\n",
        "!mkdir data/SLP_VIPCup"
      ],
      "execution_count": null,
      "outputs": []
    },
    {
      "cell_type": "code",
      "metadata": {
        "id": "GmMnrRqAJ3oi"
      },
      "source": [
        "!source download_data.sh"
      ],
      "execution_count": null,
      "outputs": []
    },
    {
      "cell_type": "code",
      "metadata": {
        "colab": {
          "base_uri": "https://localhost:8080/"
        },
        "id": "vef3-mR_Fw7G",
        "outputId": "4baa38de-e1e1-4269-eef8-5ac6cd7d4e31"
      },
      "source": [
        "%cd /content/CD_HPE"
      ],
      "execution_count": null,
      "outputs": [
        {
          "output_type": "stream",
          "name": "stdout",
          "text": [
            "/content/CD_HPE\n"
          ]
        }
      ]
    },
    {
      "cell_type": "code",
      "metadata": {
        "colab": {
          "base_uri": "https://localhost:8080/"
        },
        "id": "uDh5Sw9cKXFF",
        "outputId": "29fbc5ed-54b4-4357-ae47-00d7a651192c"
      },
      "source": [
        "%cd filelists\n",
        "!source create_filelist.sh\n",
        "%cd .."
      ],
      "execution_count": null,
      "outputs": [
        {
          "output_type": "stream",
          "name": "stdout",
          "text": [
            "/content/CD_HPE/filelists\n",
            "/content/CD_HPE\n"
          ]
        }
      ]
    },
    {
      "cell_type": "markdown",
      "metadata": {
        "id": "zdVUtnLMM5tm"
      },
      "source": [
        "# Run Supervised Model"
      ]
    },
    {
      "cell_type": "code",
      "metadata": {
        "id": "ucyVfYbYC7oK"
      },
      "source": [
        "!python train_supervised.py --adam --use_target_weight --model stacked_hg --print_freq 50 --batch_size 3 --wandb_run supervised_model_nfp_undercover"
      ],
      "execution_count": null,
      "outputs": []
    },
    {
      "cell_type": "markdown",
      "metadata": {
        "id": "euhgEYG9E04d"
      },
      "source": [
        "# Run Distillation Model"
      ]
    },
    {
      "cell_type": "code",
      "metadata": {
        "id": "GEe14wn2GOpb"
      },
      "source": [
        "!python train_distillation.py --adam --best_path /content/best_model.pth --model stacked_hg --print_freq 50 --batch_size 4 --lr 1e-4 --wandb_run distil_model_nfp_undercover"
      ],
      "execution_count": null,
      "outputs": []
    },
    {
      "cell_type": "code",
      "metadata": {
        "id": "nDrWWUhyHtFW"
      },
      "source": [
        ""
      ],
      "execution_count": null,
      "outputs": []
    }
  ]
}